{
 "cells": [
  {
   "cell_type": "markdown",
   "metadata": {},
   "source": [
    "### Finding overlap between two sequences"
   ]
  },
  {
   "cell_type": "markdown",
   "metadata": {},
   "source": [
    "string.find(value, start, end) "
   ]
  },
  {
   "cell_type": "code",
   "execution_count": null,
   "metadata": {},
   "outputs": [],
   "source": [
    "txt = \"Hello, welcome to my world.\"\n",
    "\n",
    "x = txt.find(\"e\", 5, 10)\n",
    "\n",
    "print(x) "
   ]
  },
  {
   "cell_type": "code",
   "execution_count": null,
   "metadata": {},
   "outputs": [],
   "source": [
    "a= 'abcdefg'\n",
    "b= 'cdefg'\n",
    "\n",
    "a.find(b[:3])"
   ]
  },
  {
   "cell_type": "code",
   "execution_count": 43,
   "metadata": {},
   "outputs": [],
   "source": [
    "def overlap(a,b,min_length=3):\n",
    "    start = 0\n",
    "    \n",
    "    while True:\n",
    "        start= a.find(b[:min_length],start)\n",
    "        if start == -1:\n",
    "            return 0\n",
    "        if b.startswith(a[start:]):  \n",
    "            return len(a) - start\n",
    "        \n",
    "        start += 1 \n",
    "    \n",
    "    "
   ]
  },
  {
   "cell_type": "code",
   "execution_count": null,
   "metadata": {},
   "outputs": [],
   "source": []
  },
  {
   "cell_type": "code",
   "execution_count": 44,
   "metadata": {},
   "outputs": [
    {
     "data": {
      "text/plain": [
       "3"
      ]
     },
     "execution_count": 44,
     "metadata": {},
     "output_type": "execute_result"
    }
   ],
   "source": [
    "overlap('TTACGT','CGTACCGT')"
   ]
  },
  {
   "cell_type": "code",
   "execution_count": null,
   "metadata": {},
   "outputs": [],
   "source": [
    "overlap('TTACGTT','CGTTACCGT')"
   ]
  },
  {
   "cell_type": "code",
   "execution_count": 7,
   "metadata": {},
   "outputs": [],
   "source": [
    "def overlap(a,b,min_length=3):\n",
    "    \"\"\" Return length of longest suffix of 'a' matching a prefix of \n",
    "    'b' that is at least 'min_length' characters long. If no such overlap exists,\n",
    "    return 0\n",
    "    \"\"\"\n",
    "    start = 0 # starts all the way at the left\n",
    "    \n",
    "    while True:\n",
    "        start= a.find(b[:min_length],start) # look for b's prefix in a\n",
    "        \n",
    "        if start == -1: # no occurrence to right\n",
    "            return 0\n",
    "        #found occurence: check for full suffix/prefix match\n",
    "        if b.startswith(a[start:]):  \n",
    "            return len(a) - start\n",
    "        \n",
    "        start += 1 # move past previous match\n",
    "    \n",
    "    "
   ]
  },
  {
   "cell_type": "code",
   "execution_count": 4,
   "metadata": {},
   "outputs": [
    {
     "data": {
      "text/plain": [
       "[(1,), (2,), (3,)]"
      ]
     },
     "execution_count": 4,
     "metadata": {},
     "output_type": "execute_result"
    }
   ],
   "source": [
    "from itertools import permutations\n",
    "\n",
    "list(permutations([1,2,3], 1))\n"
   ]
  },
  {
   "cell_type": "code",
   "execution_count": null,
   "metadata": {},
   "outputs": [],
   "source": [
    "list(permutations([1,2,3], 2))"
   ]
  },
  {
   "cell_type": "markdown",
   "metadata": {},
   "source": [
    "#### Overlap map"
   ]
  },
  {
   "cell_type": "code",
   "execution_count": 5,
   "metadata": {},
   "outputs": [],
   "source": [
    "def naive_overlap_map(reads, k):\n",
    "    olaps = {}\n",
    "    for a,b in permutations(reads,2):\n",
    "        olen = overlap(a,b,min_length=k)\n",
    "        \n",
    "        if olen > 0:\n",
    "            olaps[(a,b)] = olen\n",
    "            \n",
    "    return olaps\n",
    "          \n",
    "    "
   ]
  },
  {
   "cell_type": "code",
   "execution_count": 8,
   "metadata": {},
   "outputs": [
    {
     "name": "stdout",
     "output_type": "stream",
     "text": [
      "{('ACGGATGATC', 'GATCAAGT'): 4, ('TTCACGGA', 'ACGGATGATC'): 5}\n"
     ]
    }
   ],
   "source": [
    "reads = ['ACGGATGATC','GATCAAGT','TTCACGGA']\n",
    "print(naive_overlap_map(reads,3))"
   ]
  },
  {
   "cell_type": "code",
   "execution_count": null,
   "metadata": {},
   "outputs": [],
   "source": [
    "print(naive_overlap_map(reads,100))"
   ]
  },
  {
   "cell_type": "markdown",
   "metadata": {},
   "source": [
    "#### Shortest Common Superstring"
   ]
  },
  {
   "cell_type": "code",
   "execution_count": 12,
   "metadata": {},
   "outputs": [],
   "source": [
    "## Brute force\n",
    "## ss-set of strings\n",
    "\n",
    "import itertools\n",
    "\n",
    "def scs(ss):\n",
    "    shortest_sup = None\n",
    "    \n",
    "    #for each permutation of ss\n",
    "    for ssperm in itertools.permutations(ss): # no second argument to permutation it will \n",
    "        #therefore give all the permutations of the lists ss\n",
    "        #every possible ordering of that list\n",
    "        sup =ssperm[0]\n",
    "        for i in range(len(ss)-1):\n",
    "            olen= overlap(ssperm[i], ssperm[i+1], min_length=1)\n",
    "            sup += ssperm[i+1][olen:]\n",
    "            \n",
    "        if shortest_sup is None or len(sup) < len(shortest_sup):\n",
    "            shortest_sup =sup\n",
    "            \n",
    "    return shortest_sup\n",
    "        "
   ]
  },
  {
   "cell_type": "code",
   "execution_count": 9,
   "metadata": {},
   "outputs": [],
   "source": [
    "def readFastq(inputfile):\n",
    "    from Bio.Seq import Seq\n",
    "    from Bio.SeqRecord import SeqRecord\n",
    "    \n",
    "    \n",
    "    sequences=[]\n",
    "    qualities=[]\n",
    "    \n",
    "    with open (inputfile, 'r') as fh:\n",
    "        \n",
    "            while True:\n",
    "\n",
    "                fh.readline()\n",
    "                seq = fh.readline().rstrip()\n",
    "                fh.readline()\n",
    "                qual = fh.readline().rstrip()\n",
    "\n",
    "                if len(seq) == 0:\n",
    "                    break\n",
    "\n",
    "                sequences.append(seq)\n",
    "                qualities.append(qual)\n",
    "\n",
    "    return sequences, qualities"
   ]
  },
  {
   "cell_type": "code",
   "execution_count": 10,
   "metadata": {},
   "outputs": [],
   "source": [
    "seq,qual = readFastq('FAK96706_pass_93ad6cec_1.fastq')"
   ]
  },
  {
   "cell_type": "code",
   "execution_count": null,
   "metadata": {},
   "outputs": [],
   "source": []
  },
  {
   "cell_type": "code",
   "execution_count": 13,
   "metadata": {},
   "outputs": [
    {
     "data": {
      "text/plain": [
       "'TTCACGGATGATCAAGT'"
      ]
     },
     "execution_count": 13,
     "metadata": {},
     "output_type": "execute_result"
    }
   ],
   "source": [
    "scs(['ACGGATGATC','GATCAAGT','TTCACGGA'])"
   ]
  },
  {
   "cell_type": "code",
   "execution_count": 61,
   "metadata": {},
   "outputs": [
    {
     "data": {
      "text/plain": [
       "'TGTTGTACTTCGTTCCATTCAAGATTTATTCGGGTGTTTAACCGTTTTCGCATTTATCGTGAAACGCTTTCGCGTTTTTCGTGCCGCTTCGTGGCTGTTTAAGGGCCGCAGAATGCCGTTAGCCATGATTGCATGGCGCTGATTTTGTCTGTCTGATCGGATACTGGAAAAGTGAATCTTTGCTTTGATGGTAACGGTTTTTCGCCGCCATTGTAGGTTGTCTGATTTACGTCCCGCAATTCCTCGTCGGCACAGACGATGGAGATAGTCCCCAGCTTTGCCGTAGGTTCCGCCGTCGGATTACGTGGAGTTTCATGAGCTATATTTTCGGCGCCTCGTTGGGCACCAGTCTGTTTAGCGTAATGGTGGATAAACTTGGCTGGTACGGCGGATTTTATCTTCTGATGGGCGGCATCGTATGCTGCATTCCCTGTTCTGTTACCTCTCCCATCGCGGCGCTGGAACTGGAACAGCAGCGCCAGAATGCGTTACATAATCAGGACTCACTGCAGCTTGCGGACGCGCAATAAACGATTAGCTTTCCCGGAGAACAGAAGCGCCGACATTGTCGGCGCTATCTATTCATGACATTATGTATGCTAACGCTTACCGTACCCACCATAAAACGAATAATTAACCCACATGCTGGTGCAGAAAAAGCAATAATCCGCTAACGATTTCATCGCCATCTTGCAGCCATACATTGAGTAAATAAATCCAGTGCAGCAGGATAACCATTCCCCGTAAAAGAAGAAACCGCAGAAAAAGCCCCCATCACCTGACCGATATAGCAACTCACGTAGTATACTGACCCAAAGAAATGTCCATAAATAGATCATCTATCTTTTACTCCTGTCTATATCAGGCTACCATATAGCCTTACGGTCCCTCTCACTCTCCCTTTAAGATAAACCTTATTGAAGTCATTTCATAACATTTATCTCATTTTATTTTCTAAGCATTTTCAATAACCTTTGTCTGAAAT'"
      ]
     },
     "execution_count": 61,
     "metadata": {},
     "output_type": "execute_result"
    }
   ],
   "source": [
    "scs(seq[:1])"
   ]
  },
  {
   "cell_type": "code",
   "execution_count": 17,
   "metadata": {},
   "outputs": [
    {
     "name": "stdout",
     "output_type": "stream",
     "text": [
      "{}\n"
     ]
    }
   ],
   "source": [
    "print(naive_overlap_map(seq[:3],3))"
   ]
  },
  {
   "cell_type": "markdown",
   "metadata": {},
   "source": [
    "### Greedy shortest commom string"
   ]
  },
  {
   "cell_type": "code",
   "execution_count": null,
   "metadata": {},
   "outputs": [],
   "source": [
    "def pick_maximal_ovelap(reads, k):\n",
    "    reada, readb = None, None\n",
    "    best_olen=0\n",
    "    \n",
    "    for a,b in itertools.permutations(reads,2):\n",
    "        olen = overlap( a,b, min_length=k)\n",
    "        if olen > best_olen:\n",
    "            reada,readb = a, b\n",
    "            best_olen = olen\n",
    "    \n",
    "    return reada, readb, best_olen\n",
    "            \n",
    "        \n",
    "    \n",
    "    "
   ]
  },
  {
   "cell_type": "code",
   "execution_count": null,
   "metadata": {},
   "outputs": [],
   "source": [
    "def greedy_scs(reads, k):\n",
    "    read_a, read_b, olen = pick_maximal_ovelap(reads,k)\n",
    "    \n",
    "    while olen >0:\n",
    "        reads.remove(read_a)\n",
    "        reads.remove(read_b)\n",
    "        reads.append(read_a + read_b[olen:])\n",
    "        read_a, read_b, olen =pick_maximal_ovelap(reads,k)\n",
    "    return ''.join(reads)\n",
    "        "
   ]
  },
  {
   "cell_type": "code",
   "execution_count": null,
   "metadata": {},
   "outputs": [],
   "source": [
    "greedy_scs(['ABC','BCA','CAB'],2)"
   ]
  },
  {
   "cell_type": "code",
   "execution_count": null,
   "metadata": {},
   "outputs": [],
   "source": [
    "greedy_scs(['ABCD ','CDBC','BCDA'],1) "
   ]
  },
  {
   "cell_type": "code",
   "execution_count": null,
   "metadata": {},
   "outputs": [],
   "source": [
    "scs(['ABCD ','CDBC','BCDA'])"
   ]
  },
  {
   "cell_type": "code",
   "execution_count": null,
   "metadata": {},
   "outputs": [],
   "source": [
    "greedy_scs(seq[:5],100)"
   ]
  },
  {
   "cell_type": "code",
   "execution_count": 57,
   "metadata": {},
   "outputs": [],
   "source": [
    "def overlap(a,b,min_length=3):\n",
    "    start = 0\n",
    "    \n",
    "    while True:\n",
    "        tag = a.find(b[:min_length],start)\n",
    "        if tag == -1:\n",
    "            return 0\n",
    "        \n",
    "        if b.startswith(a[tag:]):  \n",
    "            return len(a) - tag\n",
    "        \n",
    "        start += 1 "
   ]
  },
  {
   "cell_type": "code",
   "execution_count": 58,
   "metadata": {},
   "outputs": [
    {
     "data": {
      "text/plain": [
       "3"
      ]
     },
     "execution_count": 58,
     "metadata": {},
     "output_type": "execute_result"
    }
   ],
   "source": [
    "overlap('TTACGT','CGTACCGT')"
   ]
  },
  {
   "cell_type": "code",
   "execution_count": null,
   "metadata": {},
   "outputs": [],
   "source": [
    "import itertools\n",
    "\n",
    "def scs(ss):\n",
    "    shortest_sup = None\n",
    "    \n",
    "    for ssperm in itertools.permutations(ss):\n",
    "        sup =ssperm[0]\n",
    "    \n",
    "#         print(sup)\n",
    "        for i in range(len(ss)-1):\n",
    "            olen= overlap(ssperm[i], ssperm[i+1], min_length=1)\n",
    "    print(type(ssperm[i]))\n",
    "#             sup += ssperm[i+1][olen:]\n",
    "            \n",
    "#         if shortest_sup is None or len(sup) < len(shortest_sup):\n",
    "#             shortest_sup =sup\n",
    "            \n",
    "#     return shortest_sup"
   ]
  },
  {
   "cell_type": "code",
   "execution_count": null,
   "metadata": {},
   "outputs": [],
   "source": [
    "scs(['ACGGATGATC','GATCAAGT','TTCACGGA'])"
   ]
  },
  {
   "cell_type": "code",
   "execution_count": null,
   "metadata": {},
   "outputs": [],
   "source": []
  }
 ],
 "metadata": {
  "kernelspec": {
   "display_name": "Python 3",
   "language": "python",
   "name": "python3"
  },
  "language_info": {
   "codemirror_mode": {
    "name": "ipython",
    "version": 3
   },
   "file_extension": ".py",
   "mimetype": "text/x-python",
   "name": "python",
   "nbconvert_exporter": "python",
   "pygments_lexer": "ipython3",
   "version": "3.8.3"
  }
 },
 "nbformat": 4,
 "nbformat_minor": 4
}
