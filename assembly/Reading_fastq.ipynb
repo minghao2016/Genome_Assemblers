{
 "cells": [
  {
   "cell_type": "code",
   "execution_count": 49,
   "metadata": {},
   "outputs": [],
   "source": [
    "def readFastq(inputfile):\n",
    "    \n",
    "    sequences=[]\n",
    "    qualities=[]\n",
    "    \n",
    "    with open (inputfile, 'r') as fh:\n",
    "        \n",
    "            while True:\n",
    "\n",
    "                fh.readline()\n",
    "                seq = fh.readline().rstrip()\n",
    "                fh.readline()\n",
    "                qual = fh.readline().rstrip()\n",
    "\n",
    "                if len(seq) == 0:\n",
    "                    break\n",
    "\n",
    "                sequences.append(seq)\n",
    "                qualities.append(qual)\n",
    "\n",
    "    return sequences, qualities"
   ]
  },
  {
   "cell_type": "code",
   "execution_count": 50,
   "metadata": {},
   "outputs": [],
   "source": [
    "seq,qual = readFastq('FAK96706_pass_93ad6cec_1.fastq')"
   ]
  },
  {
   "cell_type": "code",
   "execution_count": null,
   "metadata": {},
   "outputs": [],
   "source": []
  },
  {
   "cell_type": "code",
   "execution_count": null,
   "metadata": {},
   "outputs": [],
   "source": []
  },
  {
   "cell_type": "code",
   "execution_count": 27,
   "metadata": {},
   "outputs": [],
   "source": [
    "def overlap(a,b,min_length=3):\n",
    "    start = 0\n",
    "    \n",
    "    while True:\n",
    "        start= a.find(b[:min_length],start)\n",
    "        if start == -1:\n",
    "            return 0\n",
    "        if b.startswith(a[start:]):  \n",
    "            return len(a) - start\n",
    "        \n",
    "        start += 1 "
   ]
  },
  {
   "cell_type": "code",
   "execution_count": 28,
   "metadata": {},
   "outputs": [],
   "source": [
    "a=str(seq[:1])\n",
    "b=str(seq[1:2])"
   ]
  },
  {
   "cell_type": "code",
   "execution_count": null,
   "metadata": {},
   "outputs": [],
   "source": []
  },
  {
   "cell_type": "code",
   "execution_count": 30,
   "metadata": {},
   "outputs": [
    {
     "data": {
      "text/plain": [
       "0"
      ]
     },
     "execution_count": 30,
     "metadata": {},
     "output_type": "execute_result"
    }
   ],
   "source": [
    "overlap(a,b)"
   ]
  },
  {
   "cell_type": "markdown",
   "metadata": {},
   "source": [
    "### Reading a fastq and writing in fasta format"
   ]
  },
  {
   "cell_type": "code",
   "execution_count": 53,
   "metadata": {},
   "outputs": [],
   "source": [
    "def readFastq(inputfile,outfile):\n",
    "    from Bio.Seq import Seq\n",
    "    from Bio.SeqRecord import SeqRecord\n",
    "    \n",
    "    count = 0\n",
    "    with open (inputfile, 'r') as fh:\n",
    "        with open (outfile, 'w') as f:\n",
    "            while True:\n",
    "\n",
    "                name=fh.readline()\n",
    "                seq = fh.readline().rstrip()\n",
    "                count = count +1\n",
    "                fh.readline()\n",
    "                qual = fh.readline().rstrip()\n",
    "\n",
    "                if len(seq) == 0:\n",
    "                    break\n",
    "                    \n",
    "                record = SeqRecord(Seq(seq),id= str(count),name= name)\n",
    "                                           \n",
    "                        \n",
    "                f.write(record.format('fasta'))\n"
   ]
  },
  {
   "cell_type": "code",
   "execution_count": 54,
   "metadata": {},
   "outputs": [],
   "source": [
    "readFastq('FAK96706_pass_93ad6cec_1.fastq','FAK96706_2.fa')"
   ]
  },
  {
   "cell_type": "code",
   "execution_count": null,
   "metadata": {},
   "outputs": [],
   "source": []
  },
  {
   "cell_type": "code",
   "execution_count": 8,
   "metadata": {},
   "outputs": [],
   "source": [
    "def readFastq(inputfile):\n",
    "   \n",
    "    sequences=''\n",
    "   \n",
    "    with open (inputfile, 'r') as fh:\n",
    "        \n",
    "            while True:\n",
    "\n",
    "                fh.readline()\n",
    "                seq = fh.readline().rstrip()\n",
    "                fh.readline()\n",
    "                qual = fh.readline().rstrip()\n",
    "\n",
    "                if len(seq) == 0:\n",
    "                    break\n",
    "\n",
    "                sequences = sequences + seq\n",
    "                \n",
    "\n",
    "#     return sequences"
   ]
  },
  {
   "cell_type": "code",
   "execution_count": 9,
   "metadata": {},
   "outputs": [],
   "source": [
    "readFastq('FAK96706_pass_93ad6cec_1.fastq')"
   ]
  },
  {
   "cell_type": "markdown",
   "metadata": {},
   "source": [
    "#### Number of sequences in a file"
   ]
  },
  {
   "cell_type": "code",
   "execution_count": 1,
   "metadata": {},
   "outputs": [],
   "source": [
    "def count_seq(filename):\n",
    "    \n",
    "    count=0\n",
    "    \n",
    "    with open(filename,'r') as fh:\n",
    "        for line in fh:\n",
    "            if line.startswith('>'):\n",
    "                count+=1\n",
    "                \n",
    "    return count"
   ]
  },
  {
   "cell_type": "code",
   "execution_count": 62,
   "metadata": {},
   "outputs": [
    {
     "data": {
      "text/plain": [
       "4000"
      ]
     },
     "execution_count": 62,
     "metadata": {},
     "output_type": "execute_result"
    }
   ],
   "source": [
    "count_seq('FAK96706_2.fa')"
   ]
  },
  {
   "cell_type": "code",
   "execution_count": null,
   "metadata": {},
   "outputs": [],
   "source": []
  },
  {
   "cell_type": "code",
   "execution_count": null,
   "metadata": {},
   "outputs": [],
   "source": []
  }
 ],
 "metadata": {
  "kernelspec": {
   "display_name": "Python 3",
   "language": "python",
   "name": "python3"
  },
  "language_info": {
   "codemirror_mode": {
    "name": "ipython",
    "version": 3
   },
   "file_extension": ".py",
   "mimetype": "text/x-python",
   "name": "python",
   "nbconvert_exporter": "python",
   "pygments_lexer": "ipython3",
   "version": "3.8.3"
  }
 },
 "nbformat": 4,
 "nbformat_minor": 4
}
